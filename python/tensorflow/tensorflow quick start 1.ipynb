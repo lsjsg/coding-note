{
 "cells": [
  {
   "cell_type": "code",
   "execution_count": null,
   "metadata": {},
   "outputs": [],
   "source": [
    "<font color=\"red\"> </font>"
   ]
  },
  {
   "cell_type": "code",
   "execution_count": 1,
   "metadata": {},
   "outputs": [
    {
     "name": "stdout",
     "output_type": "stream",
     "text": [
      "b'hello world'\n"
     ]
    }
   ],
   "source": [
    "# use tensorflow to print \"hello world\"\n",
    "from __future__ import print_function\n",
    "import tensorflow as tf\n",
    "try:\n",
    "    tf.contrib.eager.enable_eager_execution()\n",
    "except ValueError:\n",
    "    pass\n",
    "tensor=tf.constant(\"hello world\")\n",
    "tensor_value=tensor.numpy()\n",
    "print(tensor_value)\n",
    "# with tf.Session() as sess:\n",
    "#     print(sess.run(c))"
   ]
  },
  {
   "cell_type": "markdown",
   "metadata": {},
   "source": [
    "其中<font color='red'>\"hello world\"</font> 是常量的初始值, tf.string是常量类型, 可以省略. 常量和变量都可以构建tensorflow里的图"
   ]
  },
  {
   "cell_type": "markdown",
   "metadata": {},
   "source": [
    "<font color='red'>q=tf.Variable(10,dtype=tf.int32)</font>  \n",
    "其中10是变量的赋值,tf.int32是变量类型.  \n",
    "tf.int8:8位整数  \n",
    "tf.int16:16位整数  \n",
    "tf.int32  \n",
    "tf.int64  \n",
    "tf.uint8：8位无符号整数。  \n",
    "tf.uint16：16位无符号整数。  \n",
    "tf.float16：16位浮点数。  \n",
    "tf.float32：32位浮点数。    \n",
    "tf.float64：64位浮点数。    \n",
    "tf.double：等同于tf.float64。    \n",
    "tf.string：字符串。    \n",
    "tf.bool：布尔型。   \n",
    "tf.complex64：64位复数。    \n",
    "tf.complex128：128位复数。"
   ]
  },
  {
   "cell_type": "markdown",
   "metadata": {},
   "source": [
    "we can use the command   \n",
    "<font color=\"red\">x=tf.constant([5.2])</font>   \n",
    "to create a constant   \n",
    "and use the command   \n",
    "<font color=\"red\">x=tf.Variable([5])</font>  \n",
    "to create a variable  \n",
    "or, you can create a variable and asign a value to it.   \n",
    "<font color=\"red\">y=tf.Variable([0])  \n",
    "    y=y.assign([5])</font>\n",
    "after we have defind some variables and constants, we can add with some other commands like <font color=\"red\">tf.add</font> it will adds up the values from the constant and variables and add them up to become a new tensor  \n",
    "将 tf.Session() 作为会话：  \n",
    "<font color='red'>  initialization = tf.global_variables_initializer()  \n",
    "  print(y.eval())</font>  \n",
    "在使用 tf.Variable 时，您必须在会话开始时调用 tf.global_variables_initializer，以明确初始化这些变量，如上所示。"
   ]
  },
  {
   "cell_type": "markdown",
   "metadata": {},
   "source": [
    "# tensorflow变量初始化\n",
    "1.创建一个2x3的矩阵,并将所有元素的值为0(类型为tf.float)  \n",
    "<font color=\"red\">a=tf.zeros([2,3],dtype=tf.float32)</font>  \n",
    "\n",
    "2.创建3x4的矩阵,并让所有元素全为1  \n",
    "<font color='red'>b=tf.ones([3,4])</font>  \n",
    "\n",
    "3.创建一个3x5的矩阵,使用2来填充. (类型为tf.int32,可忽略)  \n",
    "<font color=\"red\">c=tf.constant(2,dtype=tf.int32,shape[3,5])</font> \n",
    "\n",
    "4.创建一个1x10的矩阵,具体元素符合正态分布,平均值是20,标准偏差是3  \n",
    "<font color='red'>d=tf.random_normal([1,10],mean=20,stddev=3)</font>  \n",
    "\n",
    "上面的所有值都可以用来初始化变量.例如用0.01来填充一个1x2的矩阵来初始化一个叫bias的变量  \n",
    "<font color=\"red\">bias=tf.Variable(tf.zeros([1,2])+0.01)</font>   \n",
    "\n",
    "如果想查看这些量具体的值,可以在Session中执行它并输出   \n",
    "<font color=\"red\">sess=tf.Session()  \n",
    "    print(sess.run(d))</font>"
   ]
  },
  {
   "cell_type": "code",
   "execution_count": 2,
   "metadata": {},
   "outputs": [
    {
     "name": "stdout",
     "output_type": "stream",
     "text": [
      "13\n"
     ]
    }
   ],
   "source": [
    "#tensorflow 提供默认图, 但仍热可以在每个单元格中使用一个不同的graph\n",
    "from __future__ import print_function\n",
    "\n",
    "import tensorflow as tf\n",
    "\n",
    "# Create a graph.\n",
    "g = tf.Graph()\n",
    "\n",
    "# Establish the graph as the \"default\" graph.\n",
    "with g.as_default():\n",
    "  # Assemble a graph consisting of the following three operations:\n",
    "  #   * Two tf.constant operations to create the operands.\n",
    "  #   * One tf.add operation to add the two operands.\n",
    "  x = tf.constant(8, name=\"x_const\")\n",
    "  y = tf.constant(5, name=\"y_const\")\n",
    "  sum = tf.add(x, y, name=\"x_y_sum\")\n",
    "\n",
    "\n",
    "  # Now create a session.\n",
    "  # The session will run the default graph.\n",
    "  with tf.Session() as sess:\n",
    "    print(sum.eval())"
   ]
  },
  {
   "cell_type": "code",
   "execution_count": 5,
   "metadata": {},
   "outputs": [
    {
     "name": "stdout",
     "output_type": "stream",
     "text": [
      "TF imported with eager execution\n"
     ]
    }
   ],
   "source": [
    "from __future__ import print_function\n",
    "import tensorflow as tf\n",
    "try:\n",
    "    tf.contrib.eager.enable_eager_execution()\n",
    "    print('TF imported with eager execution')\n",
    "except ValueError:\n",
    "    print('TF already imported with eager execution')"
   ]
  },
  {
   "cell_type": "markdown",
   "metadata": {},
   "source": [
    "# 矢量加法\n",
    "您可以对张量执行很多典型数学运算 (TF API)。以下代码会创建下列矢量（一维张量），所有矢量都正好有六个元素：  \n",
    "一个包含质数的 primes 矢量。  \n",
    "一个值全为 1 的 ones 矢量。  \n",
    "一个通过对前两个矢量执行元素级加法而创建的矢量。  \n",
    "一个通过将 primes 矢量中的元素翻倍而创建的矢量。  "
   ]
  },
  {
   "cell_type": "code",
   "execution_count": 7,
   "metadata": {},
   "outputs": [
    {
     "name": "stdout",
     "output_type": "stream",
     "text": [
      "primes: tf.Tensor([ 2  3  5  7 11 13], shape=(6,), dtype=int32)\n"
     ]
    }
   ],
   "source": [
    "primes=tf.constant([2,3,5,7,11,13],dtype=tf.int32)\n",
    "print('primes:',primes)"
   ]
  },
  {
   "cell_type": "code",
   "execution_count": 11,
   "metadata": {},
   "outputs": [
    {
     "ename": "RuntimeError",
     "evalue": "tf.placeholder() is not compatible with eager execution.",
     "output_type": "error",
     "traceback": [
      "\u001b[1;31m---------------------------------------------------------------------------\u001b[0m",
      "\u001b[1;31mRuntimeError\u001b[0m                              Traceback (most recent call last)",
      "\u001b[1;32m<ipython-input-11-54c19103279a>\u001b[0m in \u001b[0;36m<module>\u001b[1;34m()\u001b[0m\n\u001b[0;32m      7\u001b[0m \u001b[1;33m\u001b[0m\u001b[0m\n\u001b[0;32m      8\u001b[0m \u001b[1;31m#输入层(1个神经元)\u001b[0m\u001b[1;33m\u001b[0m\u001b[1;33m\u001b[0m\u001b[0m\n\u001b[1;32m----> 9\u001b[1;33m \u001b[0mxs\u001b[0m\u001b[1;33m=\u001b[0m\u001b[0mtf\u001b[0m\u001b[1;33m.\u001b[0m\u001b[0mplaceholder\u001b[0m\u001b[1;33m(\u001b[0m\u001b[0mtf\u001b[0m\u001b[1;33m.\u001b[0m\u001b[0mfloat32\u001b[0m\u001b[1;33m,\u001b[0m\u001b[1;33m[\u001b[0m\u001b[1;32mNone\u001b[0m\u001b[1;33m,\u001b[0m\u001b[1;36m1\u001b[0m\u001b[1;33m]\u001b[0m\u001b[1;33m)\u001b[0m\u001b[1;31m#占位符,None表示n*1维矩阵,其中n不确定\u001b[0m\u001b[1;33m\u001b[0m\u001b[0m\n\u001b[0m\u001b[0;32m     10\u001b[0m \u001b[0mys\u001b[0m\u001b[1;33m=\u001b[0m\u001b[0mtf\u001b[0m\u001b[1;33m.\u001b[0m\u001b[0mplaceholder\u001b[0m\u001b[1;33m(\u001b[0m\u001b[0mtf\u001b[0m\u001b[1;33m.\u001b[0m\u001b[0mfloat32\u001b[0m\u001b[1;33m,\u001b[0m\u001b[1;33m[\u001b[0m\u001b[1;32mNone\u001b[0m\u001b[1;33m,\u001b[0m\u001b[1;36m1\u001b[0m\u001b[1;33m]\u001b[0m\u001b[1;33m)\u001b[0m\u001b[1;31m#占位符,None表示n*1维矩阵,其中n不确定\u001b[0m\u001b[1;33m\u001b[0m\u001b[0m\n\u001b[0;32m     11\u001b[0m \u001b[1;33m\u001b[0m\u001b[0m\n",
      "\u001b[1;32m~\\AppData\\Roaming\\Python\\Python36\\site-packages\\tensorflow\\python\\ops\\array_ops.py\u001b[0m in \u001b[0;36mplaceholder\u001b[1;34m(dtype, shape, name)\u001b[0m\n\u001b[0;32m   1730\u001b[0m   \"\"\"\n\u001b[0;32m   1731\u001b[0m   \u001b[1;32mif\u001b[0m \u001b[0mcontext\u001b[0m\u001b[1;33m.\u001b[0m\u001b[0mexecuting_eagerly\u001b[0m\u001b[1;33m(\u001b[0m\u001b[1;33m)\u001b[0m\u001b[1;33m:\u001b[0m\u001b[1;33m\u001b[0m\u001b[0m\n\u001b[1;32m-> 1732\u001b[1;33m     raise RuntimeError(\"tf.placeholder() is not compatible with \"\n\u001b[0m\u001b[0;32m   1733\u001b[0m                        \"eager execution.\")\n\u001b[0;32m   1734\u001b[0m \u001b[1;33m\u001b[0m\u001b[0m\n",
      "\u001b[1;31mRuntimeError\u001b[0m: tf.placeholder() is not compatible with eager execution."
     ]
    }
   ],
   "source": [
    "import tensorflow as tf\n",
    "import numpy as np\n",
    "# 构造输入数据(我们用神经网络拟合x_data和y_data之间的关系\n",
    "x_data=np.linspace(-1,1,300)[:,np.newaxis]  #-1到1等分300份形成的二维矩阵\n",
    "noise=np.random.normal(0,0.05,x_data.shape) #噪声,形状同x_data在0-0.05符合正态分布的小数\n",
    "y_data=np.square(x_data)-0.5+noise          #x_data的平方,减0.05,再加上噪声值\n",
    "\n",
    "#输入层(1个神经元)\n",
    "xs=tf.placeholder(tf.float32,[None,1])#占位符,None表示n*1维矩阵,其中n不确定\n",
    "ys=tf.placeholder(tf.float32,[None,1])#占位符,None表示n*1维矩阵,其中n不确定\n",
    "\n",
    "#隐层(10个神经元)\n",
    "w1=tf.Variable(tf.random_normal([1,10]))#权重,1*10的矩阵,并用符合正态分布的随机数填充\n",
    "b1=tf.Variable(tf.float32,[None,1])     #偏置,1*10的矩阵,使用0.1填充\n",
    "wx_plus_b1=tf.matmul(xs,w1)+b1          #矩阵xs和w1相乘,然后加上偏置\n",
    "output1=tf.nn.relu(wx_plus_b1)          #激活函数使用tf.nn.relu\n",
    "\n",
    "#输出层\n",
    "w2=tf.Variable(tf.random_normal([10,1]))\n",
    "b2=tf.Variable(tf.zeros([1,1])+0.1)\n",
    "wx_plus_b2=tf.matmul(output1,w2)+b2\n",
    "output2=wx_plus_b2\n",
    "\n",
    "#损失\n",
    "loss=tf.reduce_mean(tf.reduce_sum(tf.square(ys-output2),reduction_indices=[1]))\n",
    "#在第一维上使用偏差平方求和,再求平均值来计算损失\n",
    "train_step=tf.train.GradientDescentOptimizer(0.1).minimize(loss)\n",
    "#使用梯度下降法,设置步长0.1,来最小化损失\n",
    "\n",
    "#初始化\n",
    "init=tf.global_variables_initializer()#初始化所有变量\n",
    "sess=tf.Session()\n",
    "sess.run(init)#变量初始化\n",
    "\n",
    "#训练\n",
    "for i in range(1000): #训练1000次\n",
    "    _,loss_value=sess.run([train_step,loss],feed_dict={xs:x_data,ys:y_data})\n",
    "    #梯度下降并计算每一步的损失\n",
    "    if(i%50==0):\n",
    "        print(loss_value)#每50步输出一次损失"
   ]
  },
  {
   "cell_type": "code",
   "execution_count": null,
   "metadata": {},
   "outputs": [],
   "source": []
  }
 ],
 "metadata": {
  "kernelspec": {
   "display_name": "Python 3",
   "language": "python",
   "name": "python3"
  },
  "language_info": {
   "codemirror_mode": {
    "name": "ipython",
    "version": 3
   },
   "file_extension": ".py",
   "mimetype": "text/x-python",
   "name": "python",
   "nbconvert_exporter": "python",
   "pygments_lexer": "ipython3",
   "version": "3.7.1"
  }
 },
 "nbformat": 4,
 "nbformat_minor": 2
}
