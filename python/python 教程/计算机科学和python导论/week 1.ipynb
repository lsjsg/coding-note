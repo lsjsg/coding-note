{
 "cells": [
  {
   "cell_type": "markdown",
   "metadata": {},
   "source": [
    "1. 算法是一个概念，程序是算法的具体实现. \n",
    "An algorithm is a conceptual idea, a program is a concrete instantiation of an algorithm.\n",
    "\n",
    "2. 计算思维模式意味着一切都可以看做是一个涉及到数字和公式的数学问题. \n",
    "A computational mode of thinking means that everything can be viewed as a math problem involving numbers and formulas.\n",
    "\n",
    "3. 计算机科学不是研究如何建立高效的程序运行机器. \n",
    "Computer Science is not the study of how to build efficient machines that run programs.\n",
    "\n",
    "4. 任何计算机都能做的两件事是:进行计算和储存结果. \n",
    "The two things every computer can do are:Perform calculations and Remember the results\n",
    "\n",
    "5. 陈述性知识是事实的陈述。\n",
    "Declarative knowledge refers to statements of fact.\n",
    "\n",
    "6. 命令性知识是如何做的方法。\n",
    "Imperative knowledge refers to 'how to' methods.\n",
    "\n",
    "7. 通过定义的方式不能把推算平方根的方法写成真正的计算机程序是因为计算机不能猜出 y 的初始值。\n",
    "The recipe for deducing square root cannot be made into a real computer program because computers cannot guess a starting value for y.\n",
    "\n",
    "1. A program counter counts the number of primitive operations comprising a complex operation.\n",
    "\n",
    "2. Fixed Program Computers:A fixed program computer is designed to compute precisely one computation, such as a square root, or the trajectory of a missile.\n",
    "\n",
    "3. Stored Program Computers:A stored program computer is designed to run any computation, by interpreting a sequence of program instructions that are read into it.\n",
    "\n",
    "4. Turing showed that using six primitives, can compute anything --Turing complete\n",
    "\n",
    "5. Anything computable in a language is computable in any other programming languages.\n",
    "\n",
    "6. Mordern programming languages have a more convenient set of primitives, lso have ways to abstract methods to create new \"primitives\".\n",
    "\n",
    "7. \"the computer walks through the sequence executing some computation\" means The computer executes the instructions mostly in a linear sequence, except sometimes it jumps to a different place in the sequence.\n",
    "\n",
    "8. Each programming language provides a set pf primitive operations.\n",
    "\n",
    "9. Each programming language provides mechanisms for combining primitives to form more complex, but legal,expressions.\n",
    "\n",
    "10. Each programming language provides mechanisms for deducing meanings or values associated with computations or expressions.\n",
    "\n",
    "11. Static semantics- which syntactically valid strings have a meaning.\n",
    "\n",
    "12. Semantics- what is the meaning associated with a syntactivally correct string of symbols with no static semantic errors."
   ]
  },
  {
   "cell_type": "code",
   "execution_count": 5,
   "metadata": {},
   "outputs": [
    {
     "name": "stdout",
     "output_type": "stream",
     "text": [
      "enter a number to find it's squre root:100\n",
      "the squre root is: 10.0\n"
     ]
    }
   ],
   "source": [
    "# program 1.0 find the squre root of a number\n",
    "g=1;error=0.00000001\n",
    "a=float(input(\"enter a number to find it's squre root:\"))\n",
    "if not a>0:\n",
    "    print(\"input error\")\n",
    "else:\n",
    "    while(abs(g*g-a)>error):\n",
    "        g=(g+a/g)/2\n",
    "    print(\"the squre root is:\",round(g,3))"
   ]
  },
  {
   "cell_type": "markdown",
   "metadata": {},
   "source": [
    "Programming Language\n",
    "Defines syntax and semantics needed to translate our computational ideas into mechanical steps"
   ]
  },
  {
   "cell_type": "code",
   "execution_count": null,
   "metadata": {},
   "outputs": [],
   "source": []
  }
 ],
 "metadata": {
  "kernelspec": {
   "display_name": "Python 3",
   "language": "python",
   "name": "python3"
  },
  "language_info": {
   "codemirror_mode": {
    "name": "ipython",
    "version": 3
   },
   "file_extension": ".py",
   "mimetype": "text/x-python",
   "name": "python",
   "nbconvert_exporter": "python",
   "pygments_lexer": "ipython3",
   "version": "3.6.5"
  }
 },
 "nbformat": 4,
 "nbformat_minor": 2
}
