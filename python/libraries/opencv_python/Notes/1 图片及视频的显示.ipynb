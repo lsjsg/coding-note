{
 "cells": [
  {
   "cell_type": "markdown",
   "metadata": {},
   "source": [
    "搭建一个新的python环境\n",
    "并通过\n",
    "\n",
    "pip install opencv-python\n",
    "\n",
    "pip install opencv-contrib-python\n",
    "\n",
    "pip install pytesseract\n",
    "\n",
    "来安装opencv极其相关库"
   ]
  },
  {
   "cell_type": "markdown",
   "metadata": {},
   "source": [
    "图片的展示"
   ]
  },
  {
   "cell_type": "code",
   "execution_count": null,
   "metadata": {},
   "outputs": [
    {
     "name": "stdout",
     "output_type": "stream",
     "text": [
      "3.4.3\n"
     ]
    }
   ],
   "source": [
    "import cv2 as cv\n",
    "print(cv.__version__) # 导入成功\n",
    "src = cv.imread(\"C:\\opencv\\demo.jpg\") # 载入图片\n",
    "cv.namedWindow(\"image\", cv.WINDOW_AUTOSIZE) # 创建窗口并设置其为动态大小\n",
    "cv.imshow(\"image\",src) # 显示图片\n",
    "cv.waitKey(0)\n",
    "cv.destroyallWindows()"
   ]
  },
  {
   "cell_type": "code",
   "execution_count": null,
   "metadata": {},
   "outputs": [],
   "source": [
    "import cv2 as cv\n",
    "print(cv.__version__) # 导入成功\n",
    "src = cv.imread(\"C:\\opencv\\demo.jpg\") # 载入图片\n",
    "cv.namedWindow(\"image\", cv.WINDOW_AUTOSIZE) # 创建窗口并设置其为动态大小\n",
    "cv.imshow(\"image\",src) # 显示图片\n",
    "cv.waitKey(0)\n",
    "cv.destroyallWindows()"
   ]
  }
 ],
 "metadata": {
  "kernelspec": {
   "display_name": "Python 3",
   "language": "python",
   "name": "python3"
  },
  "language_info": {
   "codemirror_mode": {
    "name": "ipython",
    "version": 3
   },
   "file_extension": ".py",
   "mimetype": "text/x-python",
   "name": "python",
   "nbconvert_exporter": "python",
   "pygments_lexer": "ipython3",
   "version": "3.6.5"
  }
 },
 "nbformat": 4,
 "nbformat_minor": 2
}
