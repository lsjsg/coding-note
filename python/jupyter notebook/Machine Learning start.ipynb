{
 "cells": [
  {
   "cell_type": "markdown",
   "metadata": {},
   "source": [
    "# 在jupyter notebook上使用tensorflow\n",
    "1.创建环境\n",
    "\n",
    "2.激活环境(每次使用前)\n",
    "\n",
    "3.pip3 install tensorflow\n",
    "\n",
    "4.pip3 install tensorflow-gpu\n",
    "\n",
    "5.安装校验"
   ]
  },
  {
   "cell_type": "code",
   "execution_count": 6,
   "metadata": {},
   "outputs": [
    {
     "name": "stdout",
     "output_type": "stream",
     "text": [
      "b'hello, tensorflow!'\n"
     ]
    }
   ],
   "source": [
    "import tensorflow as tf\n",
    "hello=tf.constant(\"hello, tensorflow!\")\n",
    "sess=tf.Session()\n",
    "print(sess.run(hello))"
   ]
  },
  {
   "cell_type": "markdown",
   "metadata": {},
   "source": [
    "6.conda install ipython\n",
    "\n",
    "7.conda install jupyter\n",
    "\n",
    "8.ipython kernelspec install-self --user\n",
    "\n",
    "当出现:installed kernelspec python3 in C:\\Users\\xxx\\jupyter\\kernels\\python3时\n",
    "\n",
    "即可在jupyter notebook内尝试\n",
    "\n",
    "(若之前已经安装pytorch, 则pytorch也被导入)"
   ]
  },
  {
   "cell_type": "code",
   "execution_count": 3,
   "metadata": {},
   "outputs": [
    {
     "name": "stdout",
     "output_type": "stream",
     "text": [
      "b'hello tensorflow'\n",
      "42\n"
     ]
    }
   ],
   "source": [
    "import tensorflow as tf\n",
    "import numpy as np\n",
    "hello=tf.constant(\"hello tensorflow\")\n",
    "sess =tf.Session()\n",
    "print(sess.run(hello))\n",
    "a=tf.constant(10)\n",
    "b=tf.constant(32)\n",
    "print(sess.run(a+b))"
   ]
  },
  {
   "cell_type": "markdown",
   "metadata": {},
   "source": [
    "### To check whether pytorch is installed successfully"
   ]
  },
  {
   "cell_type": "code",
   "execution_count": 4,
   "metadata": {},
   "outputs": [
    {
     "name": "stdout",
     "output_type": "stream",
     "text": [
      "True\n"
     ]
    }
   ],
   "source": [
    "import torch\n",
    "import torchvision\n",
    "print(torch.cuda.is_available())"
   ]
  },
  {
   "cell_type": "code",
   "execution_count": null,
   "metadata": {},
   "outputs": [],
   "source": []
  }
 ],
 "metadata": {
  "kernelspec": {
   "display_name": "Python 3",
   "language": "python",
   "name": "python3"
  },
  "language_info": {
   "codemirror_mode": {
    "name": "ipython",
    "version": 3
   },
   "file_extension": ".py",
   "mimetype": "text/x-python",
   "name": "python",
   "nbconvert_exporter": "python",
   "pygments_lexer": "ipython3",
<<<<<<< HEAD
   "version": "3.7.1"
=======
   "version": "3.6.5"
>>>>>>> 7d484bb4e6b54a3b13b96136f9bd9998e63c87e2
  }
 },
 "nbformat": 4,
 "nbformat_minor": 2
}
