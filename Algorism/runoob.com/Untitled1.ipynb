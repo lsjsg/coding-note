{
 "cells": [
  {
   "cell_type": "markdown",
   "metadata": {},
   "source": [
    "1. 有四个数字：1、2、3、4，能组成多少个互不相同且无重复数字的三位数？各是多少？\n",
    "\n",
    "程序分析：可填在百位、十位、个位的数字都是1、2、3、4。组成所有的排列后再去 掉不满足条件的排列。"
   ]
  },
  {
   "cell_type": "code",
   "execution_count": 4,
   "metadata": {},
   "outputs": [
    {
     "name": "stdout",
     "output_type": "stream",
     "text": [
      "123 \t\n",
      "124 \t\n",
      "132 \t\n",
      "134 \t\n",
      "142 \t\n",
      "143 \t\n",
      "213 \t\n",
      "214 \t\n",
      "231 \t\n",
      "234 \t\n",
      "241 \t\n",
      "243 \t\n",
      "312 \t\n",
      "314 \t\n",
      "321 \t\n",
      "324 \t\n",
      "341 \t\n",
      "342 \t\n",
      "412 \t\n",
      "413 \t\n",
      "421 \t\n",
      "423 \t\n",
      "431 \t\n",
      "432 \t\n"
     ]
    }
   ],
   "source": [
    "for a in range(1,5):\n",
    "    for b in range(1,5):\n",
    "        for c in range(1,5):\n",
    "            if (a!= b and b!=c and a!=c):\n",
    "                print(\"%d%d%d\" %(a,b,c))"
   ]
  },
  {
   "cell_type": "markdown",
   "metadata": {},
   "source": [
    "2. 题目：企业发放的奖金根据利润提成。利润(I)低于或等于10万元时，奖金可提10%；利润高于10万元，低于20万元时，低于10万元的部分按10%提成，高于10万元的部分，可提成7.5%；20万到40万之间时，高于20万元的部分，可提成5%；40万到60万之间时高于40万元的部分，可提成3%；60万到100万之间时，高于60万元的部分，可提成1.5%，高于100万元时，超过100万元的部分按1%提成，从键盘输入当月利润I，求应发放奖金总数？\n",
    "\n",
    "程序分析：请利用数轴来分界，定位。注意定义时需把奖金定义成长整型。"
   ]
  },
  {
   "cell_type": "code",
   "execution_count": 12,
   "metadata": {},
   "outputs": [
    {
     "name": "stdout",
     "output_type": "stream",
     "text": [
      "0.64\n"
     ]
    }
   ],
   "source": [
    "n = 12\n",
    "num = [100,60,40,20,10,0]\n",
    "percent = [1,1.5,3,5,7,5,10]\n",
    "sum = 0.0\n",
    "for i in range(6):\n",
    "    if n > num[i]:\n",
    "        sum += (n - num[i]) * percent[i] / 100\n",
    "        n = num[i]\n",
    "print(sum)"
   ]
  },
  {
   "cell_type": "markdown",
   "metadata": {},
   "source": [
    "3. 题目：一个整数，它加上100后是一个完全平方数，再加上168又是一个完全平方数，请问该数是多少？\n",
    "\n",
    "程序分析：\n",
    "假设该数为 x。\n",
    "1、则：x + 100 = n2, x + 100 + 168 = m2\n",
    "2、计算等式：m2 - n2 = (m + n)(m - n) = 168\n",
    "3、设置： m + n = i，m - n = j，i * j =168，i 和 j 至少一个是偶数\n",
    "4、可得： m = (i + j) / 2， n = (i - j) / 2，i 和 j 要么都是偶数，要么都是奇数。\n",
    "5、从 3 和 4 推导可知道，i 与 j 均是大于等于 2 的偶数。\n",
    "6、由于 i * j = 168， j>=2，则 1 < i < 168 / 2 + 1。\n",
    "7、接下来将 i 的所有数字循环计算即可。"
   ]
  },
  {
   "cell_type": "code",
   "execution_count": 57,
   "metadata": {},
   "outputs": [
    {
     "name": "stdout",
     "output_type": "stream",
     "text": [
      "43.0   1581.0   41.0   1581.0\n",
      "1581.0\n",
      "23.0   261.0   19.0   261.0\n",
      "261.0\n",
      "17.0   21.0   11.0   21.0\n",
      "21.0\n"
     ]
    }
   ],
   "source": [
    "from math import sqrt\n",
    "for i in [1,2,3,6]:\n",
    "    j = 42 / i * 2\n",
    "    i *= 2\n",
    "    a = float((i+j)/2)\n",
    "    b = float((j-i)/2)\n",
    "    if b > 10:\n",
    "        print(a,\" \",(b**2 - 100),\" \",b,\" \",(a**2-268))\n",
    "        if (b**2 - 100 == a**2-268):\n",
    "            print(b**2-100)\n",
    "        \"\"\"\n",
    "        if (b**2 - 100)**0.5 % 1.0 > 0.0:\n",
    "            print(a,\" \",b,\" \",(b**2+168)**0.5)\n",
    "            print((b**2 +168)**0.5 % 1.0)\n",
    "            print(b**2 +168)\"\"\""
   ]
  },
  {
   "cell_type": "code",
   "execution_count": 58,
   "metadata": {},
   "outputs": [
    {
     "name": "stdout",
     "output_type": "stream",
     "text": [
      "21\n"
     ]
    }
   ],
   "source": [
    "x=1\n",
    "while ((x + 100)**0.5 % 1.0 != 0.0 or (x+268)**0.5 % 1.0 != 0.0):\n",
    "    x+=1\n",
    "print(x)"
   ]
  },
  {
   "cell_type": "markdown",
   "metadata": {},
   "source": [
    "# "
   ]
  }
 ],
 "metadata": {
  "kernelspec": {
   "display_name": "Python 3",
   "language": "python",
   "name": "python3"
  },
  "language_info": {
   "codemirror_mode": {
    "name": "ipython",
    "version": 3
   },
   "file_extension": ".py",
   "mimetype": "text/x-python",
   "name": "python",
   "nbconvert_exporter": "python",
   "pygments_lexer": "ipython3",
   "version": "3.7.1"
  }
 },
 "nbformat": 4,
 "nbformat_minor": 2
}
