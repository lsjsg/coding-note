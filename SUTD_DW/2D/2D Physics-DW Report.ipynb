{
 "cells": [
  {
   "cell_type": "markdown",
   "metadata": {},
   "source": [
    "# Report for 2D Project Physical World and Digital World\n",
    "\n",
    "Cohort: # enter your cohort\n",
    "\n",
    "Team No.: # Enter your team number\n",
    "\n",
    "Members:\n",
    "* Student 1 Name (Student ID)\n",
    "* Student 2 Name (Student ID)\n"
   ]
  },
  {
   "cell_type": "markdown",
   "metadata": {},
   "source": [
    "# Introduction\n",
    "\n",
    "Write your introduction here. Describe the problem you want to solve and a brief of your approach and summary of your result.\n"
   ]
  },
  {
   "cell_type": "code",
   "execution_count": null,
   "metadata": {},
   "outputs": [],
   "source": [
    "\"\"\"\n",
    "Our aim is to use the thermosensor given and test from 10 to 60 degree with a gap of 20. \n",
    "Using the model given to find out the best fit model for the temperature. \n",
    "The idea of the model is to get the the temperature of the first 10 seconds and predict out the final temperature. \n",
    "Using exponential function and linear regresssion.\n",
    "\"\"\""
   ]
  },
  {
   "cell_type": "markdown",
   "metadata": {},
   "source": [
    "# Description of Data from Experiment"
   ]
  },
  {
   "cell_type": "markdown",
   "metadata": {},
   "source": [
    "## Data Collection\n",
    "\n",
    "Describe how you collect your data and the reasoning behind such approach.\n",
    "\n"
   ]
  },
  {
   "cell_type": "code",
   "execution_count": null,
   "metadata": {},
   "outputs": [],
   "source": [
    "import pickle\n",
    "import time\n",
    "from w1thermsensor import W1ThermSensor\n",
    "import os\n",
    "# create one dict with two list inside to store the time and the temperature\n",
    "d = {\"time\":[],\"temperature\":[]}\n",
    "sensor = W1ThermSensor.get_available_sensors()[0]\n",
    "start = time.time()\n",
    "# measure the temperature for 120 times and store the temperature and the time when we measured it inside the dict\n",
    "for i in range(120):\n",
    "    temperature = sensor.get_temperature()\n",
    "    d[\"time\"].append(time.time() - start)\n",
    "    d[\"temperature\"].append(temperature)\n",
    "    print(\"{0}Sensor has temperature {1}\".format(i,temperature))\n",
    "    time.sleep(1)\n",
    "# naming the file using the time when we created the file\n",
    "# and we record the time when we did the experiment and the exact temperature so that we know the exact temperature and the time wew did the experiment.\n",
    "now = time.strftime('%Y-%m-%d-%H:%M:%S',time.localtime())\n",
    "name = \"{0}.pickle\".format(now)\n",
    "# create a file and name it using the time we created, and use pickle to store the data inside\n",
    "os.system(\"touch {0}\".format(name))\n",
    "file = open(name,\"wb\")\n",
    "pickle.dump(d,file)\n",
    "file.close()\n",
    "\n",
    "# this way is convinient and can directly store a dictionary into a file, and we can directly reload it the next time"
   ]
  },
  {
   "cell_type": "markdown",
   "metadata": {},
   "source": [
    "## Data Preparation\n",
    "\n",
    "Describe how you prepare your data. Include any codes you have here."
   ]
  },
  {
   "cell_type": "code",
   "execution_count": null,
   "metadata": {},
   "outputs": [],
   "source": [
    "\"\"\"\n",
    "We extract out the data from the pickle file and store it inside the csv file\n",
    "\"\"\""
   ]
  },
  {
   "cell_type": "code",
   "execution_count": 1,
   "metadata": {},
   "outputs": [],
   "source": [
    "import csv\n",
    "import numpy as np\n",
    "import numpy as np\n",
    "from sklearn import linear_model\n",
    "from sklearn.metrics import mean_squared_error, r2_score\n",
    "from sklearn.preprocessing import PolynomialFeatures\n",
    "import matplotlib.pyplot as plt\n",
    "\n",
    "csvFile = open(\"data.csv\", \"r\")\n",
    "reader = csv.reader(csvFile)\n",
    "# create a dict to store different groups of experiment respectively\n",
    "result = {'time0': [], 'temperature0': [], 'time1': [], 'temperature1': [], 'time2': [], 'temperature2': [], 'time3': [], \n",
    "    'temperature3': [], 'time4': [], 'temperature4': [], 'time5': [], 'temperature5': [], 'time6': [], 'temperature6': []}\n",
    "for item in reader:\n",
    "    if reader.line_num == 1:\n",
    "        l = item\n",
    "    else:\n",
    "        # put the value inside the dict with respect to their keys\n",
    "        for i in range(14):\n",
    "            result[l[i]].append(float(item[i]))\n",
    "csvFile.close()"
   ]
  },
  {
   "cell_type": "markdown",
   "metadata": {},
   "source": [
    "## Data Format\n",
    "\n",
    "Describe your data and its features. Include any codes or visualization of data."
   ]
  },
  {
   "cell_type": "code",
   "execution_count": 2,
   "metadata": {},
   "outputs": [
    {
     "data": {
      "image/png": "[encoded data removed]",
      "text/plain": [
       "<Figure size 432x288 with 1 Axes>"
      ]
     },
     "metadata": {
      "needs_background": "light"
     },
     "output_type": "display_data"
    }
   ],
   "source": [
    "# plot out all the graphs\n",
    "for i in range(7):\n",
    "    plt.plot(result[\"time{0}\".format(i)],result[\"temperature{0}\".format(i)])"
   ]
  },
  {
   "cell_type": "code",
   "execution_count": 3,
   "metadata": {},
   "outputs": [],
   "source": [
    "# extract out data of experiment 0\n",
    "tem = np.array(result[\"temperature0\"])\n",
    "time = np.array(result[\"time0\"])\n",
    "def prepare(tem,time):\n",
    "    # prepare data for train, we choose the one with the largest temperature gap\n",
    "    # final temperature/water temperature, and add a small error to avoid ln(0) error\n",
    "    t_w = tem[-1]+0.001 \n",
    "    # initial value/environment temperature\n",
    "    t0 = tem[0] \n",
    "    # use absolute value to avoid mistake \n",
    "    data = abs(tem - t_w) \n",
    "    t_diff = abs(t_w - t0)\n",
    "    # reshape the data to a 2D array\n",
    "    time = time.reshape((time.shape[0],1))\n",
    "    data = data.reshape((time.shape[0],1))\n",
    "    return t0,t_diff,data,time\n",
    "t0,t_diff,data,time = prepare(np.array(result[\"temperature0\"]),time = np.array(result[\"time0\"]))\n",
    "t01,t_diff1,data1,time1 = prepare(np.array(result[\"temperature1\"]),time = np.array(result[\"time1\"]))"
   ]
  },
  {
   "cell_type": "code",
   "execution_count": 4,
   "metadata": {},
   "outputs": [
    {
     "name": "stdout",
     "output_type": "stream",
     "text": [
      "coef=-0.08104848751493608,intercept=0.4908115952542831\n",
      "tao=12.338293170686427\n",
      "mean square error=2.462101774874548,R2_error=0.659672319736316\n"
     ]
    }
   ],
   "source": [
    "def train_model(t0,t_diff,data,time,t01,t_diff1,data1,time1):\n",
    "    # get the ln((tw - ts)/(tamb - tw))\n",
    "    # as we supposed that tao did not change with temperature\n",
    "    # so we form a linear model of ln((tw - ts)/(tamb - tw)) = - T/tao + c\n",
    "    ln = np.log(data/t_diff)\n",
    "    ln1 = np.log(data1/t_diff1)\n",
    "    # here we define a as -1/tao, then use linear model to fit time and ln((tw - ts)/(tamb - tw))\n",
    "    model = linear_model.LinearRegression().fit(time,ln)\n",
    "    # make a prediction and estimate the mean square error and R2_score\n",
    "    pred = model.predict(time1)\n",
    "    MSE=mean_squared_error(ln1,pred)\n",
    "    R2_score=r2_score(ln1,pred)\n",
    "    return model,float(model.coef_),float(model.intercept_),MSE,R2_score\n",
    "model,coef,intercept,MSE,R2_score = train_model(t0,t_diff,data,time,t01,t_diff1,data1,time1)\n",
    "print(\"coef={0},intercept={1}\".format(coef,intercept))\n",
    "print(\"tao={0}\".format(-1/coef))\n",
    "print(\"mean square error={0},R2_error={1}\".format(MSE,R2_score))"
   ]
  },
  {
   "cell_type": "code",
   "execution_count": 5,
   "metadata": {},
   "outputs": [],
   "source": [
    "\"\"\"after getting tao and the intercpt we use another linear model with respect to the exp of t \n",
    "to model it and predict the temperature after 100 seconds which is when the temperature stabelise\"\"\"\n",
    "def predict(t,t0,k):\n",
    "    # set the initial temperature, we take ret as initial value for predict\n",
    "    ret = t0\n",
    "    for i in range(100):\n",
    "        # we estimate out the gap between the readings and add them up(integrate)\n",
    "        ret += k * np.exp((100-t)*(coef)+intercept) * 105.1532\n",
    "    return float(ret)"
   ]
  },
  {
   "cell_type": "markdown",
   "metadata": {},
   "source": [
    "# Verification and Accuracy\n",
    "\n",
    "Describe how you check the accuracy of your model and its result. State any analysis you have and the steps you have taken to improve its accuracy."
   ]
  },
  {
   "cell_type": "code",
   "execution_count": 6,
   "metadata": {},
   "outputs": [],
   "source": [
    "# get the second reading of every experiment and the time of this reading, \n",
    "# as well as the gap between the first reading and the second reading, store it inside test[]\n",
    "# get the final reading of every experiment and store it inside actual[]\n",
    "test = []\n",
    "actual = []\n",
    "for i in range(7):\n",
    "    temperature = result[\"temperature{0}\".format(i)]\n",
    "    time = result[\"time{0}\".format(i)]\n",
    "    t = time[1]\n",
    "    t0 = temperature[1]\n",
    "    k = temperature[1]- temperature[0]\n",
    "    test.append([t,t0,k])\n",
    "    actual.append(temperature[-1])\n",
    "# change test and actual to be numpy array\n",
    "test = np.array(test)\n",
    "actual = np.array(actual)"
   ]
  },
  {
   "cell_type": "code",
   "execution_count": 7,
   "metadata": {},
   "outputs": [
    {
     "name": "stdout",
     "output_type": "stream",
     "text": [
      "average_error=0.5065194282950396\n"
     ]
    }
   ],
   "source": [
    "# find out the average error of the the predictions\n",
    "def sum_error():\n",
    "    sum = 0.0\n",
    "    for i in range(7):\n",
    "        pred = predict(test[i][0],test[i][1],test[i][2])\n",
    "        error = abs(pred - actual[i])\n",
    "        sum += error\n",
    "    return sum\n",
    "print(\"average_error={0}\".format(sum_error()/7))"
   ]
  },
  {
   "cell_type": "markdown",
   "metadata": {},
   "source": [
    "# Example Scripts"
   ]
  },
  {
   "cell_type": "markdown",
   "metadata": {},
   "source": [
    "Instruction:\n",
    "\n",
    "* Read an excel file with the following format:\n",
    "```\n",
    "time (s)\treading\n",
    "0.00\t    25.812\n",
    "0.90\t    28.562\n",
    "1.79\t    31.875\n",
    "2.68\t    35.062\n",
    "3.55\t    37.937\n",
    "4.43\t    40.687\n",
    "5.30\t    43.25\n",
    "```\n",
    "where the first column indicates the time in seconds and the second column indicates the sensor reading in Celsius. \n",
    "* Write a code to prepare the data, extract the features.\n",
    "* Write a code to split the data.\n",
    "* Write a code to train the model.\n",
    "* Write a code to predict the final temperature.\n",
    "* Write a code to check accuracy.\n",
    "\n",
    "**The script below is just for your example. You don't have to use it and you can write your own script.**\n",
    "\n"
   ]
  }
 ],
 "metadata": {
  "kernelspec": {
   "display_name": "Python 3",
   "language": "python",
   "name": "python3"
  },
  "language_info": {
   "codemirror_mode": {
    "name": "ipython",
    "version": 3
   },
   "file_extension": ".py",
   "mimetype": "text/x-python",
   "name": "python",
   "nbconvert_exporter": "python",
   "pygments_lexer": "ipython3",
   "version": "3.7.1"
  }
 },
 "nbformat": 4,
 "nbformat_minor": 2
}
